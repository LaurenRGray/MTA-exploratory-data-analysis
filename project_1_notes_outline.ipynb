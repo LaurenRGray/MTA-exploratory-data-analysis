{
 "cells": [
  {
   "cell_type": "markdown",
   "metadata": {},
   "source": [
    "### End goal: give user a list of stations/times to place their people in order of priority"
   ]
  },
  {
   "cell_type": "markdown",
   "metadata": {},
   "source": [
    "1. Start with MVP: find the places where there are the most people volume wise (entrances/exits)"
   ]
  },
  {
   "cell_type": "markdown",
   "metadata": {},
   "source": [
    "2. From there we can iterate:\n",
    "\n",
    "- slice by time (month, day of wekk)\n",
    "    - which times of day or week are prioritized in terms of volume of people?\n",
    "- slice by station\n",
    "    - which are the best geographic location based on stations that are located in ideal places (\"quality of people\" - e.g., near Wallstreet people may be more likely to give money becuase they make more money; near women's tech companies because support idea)"
   ]
  },
  {
   "cell_type": "markdown",
   "metadata": {},
   "source": [
    "- Sort by quantity of people, time of day, station"
   ]
  },
  {
   "cell_type": "markdown",
   "metadata": {},
   "source": [
    "##### PROBLEMS WE'RE RUNNING INTO:\n",
    "\n",
    "###### Huge positive and negative values\n",
    "- We need to figure out if these is due to turnstile reset. \n",
    "    - Check the data to make sure it's in order by date. Then check if dry numbers are still there. \n",
    "    - At date jumps, what is happening with our calculations?\n",
    "    - do basic summary statistics - what are percentiles, quantiles; do box and whisker plot. If there are outliers that fall above a certain percentage of data, interrogate why that is happeneing. Then you can see if the values reset because of a certain threshold or other reason (e.g., time), then we fixed that...\n",
    "    - Subset the data:\n",
    "        - (1) by those huge values to see if they all occur at the same time approx, or \n",
    "        - (2) to look to see if it's related to volume of people"
   ]
  },
  {
   "cell_type": "markdown",
   "metadata": {},
   "source": [
    "We realized the dates are out of order, which may be why we see crazy numbers. So we need to remove the Ent Ext columns, clean the data by ordering by day, time, and then do the Ent Ext calculations. "
   ]
  },
  {
   "cell_type": "markdown",
   "metadata": {},
   "source": [
    "Let's re do this with just one month of data so it will be easier to figure out what's going on with the data... then if it's easy and goes  well, add in a couple more months"
   ]
  },
  {
   "cell_type": "markdown",
   "metadata": {},
   "source": [
    "Need to do Ent & Ext for each station individually?"
   ]
  },
  {
   "cell_type": "markdown",
   "metadata": {},
   "source": [
    "In presentation, they want to hear 15 seconds about what we did with the data, and the rest are the insights we got"
   ]
  },
  {
   "cell_type": "markdown",
   "metadata": {},
   "source": [
    "As far as eliminating outliers:\n",
    "    We do not want to elinate more than 1% of our data. 2 standard deviations are 5%... 3 are...?\n",
    "    \n",
    "Dan will do this by reading in one csv file form the original raw data at a time:\n",
    "    - drop NaN after taking difs at beginning\n",
    "    - drop Recover AUD (that's where there is a missing audit that was recovered)\n",
    "    - drop all the negatives\n",
    "    - then check how many rows exist to make sure not dropping too much of the data\n",
    "    - determine how many rows we are OK with dropping (not more than 1% of data) [called \"target\"]\n",
    "    - compute cut off above which we can drop outliers (Dan's function!)"
   ]
  },
  {
   "cell_type": "markdown",
   "metadata": {},
   "source": [
    "# Visualizations!\n",
    "\n",
    "##### Histograms\n",
    "- histogram of top 10 stations for traffic (SUM(sum_ent_ext)) for the entire data period\n",
    "- histogram of of day of week for traffic (SUM(sum_ent_ext))\n",
    "\n",
    "##### Time series (line plot or *factor plot)\n",
    "- one plot, x-axis = M, T, W, TH, F, Sat, Sun, y-axis = sum(traffic) AND median(m\n",
    "- 7 plots per day of week, each with all times on x-axis\n",
    "- (see my drawings in notebook)"
   ]
  },
  {
   "cell_type": "code",
   "execution_count": null,
   "metadata": {},
   "outputs": [],
   "source": []
  }
 ],
 "metadata": {
  "kernelspec": {
   "display_name": "Python 3",
   "language": "python",
   "name": "python3"
  },
  "language_info": {
   "codemirror_mode": {
    "name": "ipython",
    "version": 3
   },
   "file_extension": ".py",
   "mimetype": "text/x-python",
   "name": "python",
   "nbconvert_exporter": "python",
   "pygments_lexer": "ipython3",
   "version": "3.7.2"
  }
 },
 "nbformat": 4,
 "nbformat_minor": 2
}
