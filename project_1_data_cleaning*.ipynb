{
 "cells": [
  {
   "cell_type": "code",
   "execution_count": 1,
   "metadata": {},
   "outputs": [],
   "source": [
    "import pandas as pd\n",
    "import time"
   ]
  },
  {
   "cell_type": "code",
   "execution_count": 2,
   "metadata": {},
   "outputs": [],
   "source": [
    "# read raw data (downloaded from http://web.mta.info/developers/turnstile.html) to dataframe \n",
    "\n",
    "df_march_3 = pd.read_csv('3_3_2018.csv')\n",
    "df_march_10 = pd.read_csv('3_10_2018.csv')\n",
    "df_march_17 = pd.read_csv('3_17_2018.csv')\n",
    "df_march_24 = pd.read_csv('3_24_2018.csv')\n",
    "df_march_31 = pd.read_csv('3_31_2018.csv')\n",
    "df_april_7 = pd.read_csv('4_7_2018.csv')\n",
    "df_april_14 = pd.read_csv('4_14_2018.csv')\n",
    "df_april_21 = pd.read_csv('4_21_2018.csv')\n",
    "df_april_28 = pd.read_csv('4_28_2018.csv')\n",
    "df_may_5 = pd.read_csv('5_5_2018.csv')\n",
    "df_may_12 = pd.read_csv('5_12_2018.csv')\n",
    "df_may_19 = pd.read_csv('5_19_2018.csv')\n",
    "df_may_26 = pd.read_csv('5_26_2018.csv')\n",
    "df_june_2 = pd.read_csv('6_2_2018.csv')\n",
    "df_june_9 = pd.read_csv('6_9_2018.csv')\n",
    "df_june_16 = pd.read_csv('6_16_2018.csv')"
   ]
  },
  {
   "cell_type": "code",
   "execution_count": 3,
   "metadata": {},
   "outputs": [],
   "source": [
    "# combine individual dataframes into a single merged dataframes and save as csv\n",
    "\n",
    "frames = [df_march_3, df_march_10, df_march_17, df_march_24, df_march_31, df_april_7, df_april_14, df_april_21, df_april_28, df_may_5, df_may_12, df_may_19, df_may_26, df_june_2, df_june_9, df_june_16]\n",
    "merge = pd.concat(frames)\n",
    "merge.to_csv('merged_raw_mta_data.csv', index = False)"
   ]
  },
  {
   "cell_type": "code",
   "execution_count": 4,
   "metadata": {},
   "outputs": [],
   "source": [
    "# remove white space from column names (specifically EXITS) and create new columns in merge dataframe\n",
    "\n",
    "new_names = [name.strip() for name in merge.columns]\n",
    "merge.columns = new_names"
   ]
  },
  {
   "cell_type": "code",
   "execution_count": 5,
   "metadata": {},
   "outputs": [],
   "source": [
    "# Remove \"RECOVR AUD\" entries (in DESC column), which refers to a missed audit that was recovered\n",
    "\n",
    "merge = merge[merge['DESC'] != 'RECOVR AUD']"
   ]
  },
  {
   "cell_type": "code",
   "execution_count": 6,
   "metadata": {},
   "outputs": [],
   "source": [
    "# convert DATE column to datetime\n",
    "# create 'month' and 'day_of_week' columns\n",
    "\n",
    "merge['DATE'] = pd.to_datetime(merge['DATE'])\n",
    "merge['month'] = merge['DATE'].dt.month\n",
    "merge['day_of_week'] = merge['DATE'].dt.weekday_name"
   ]
  },
  {
   "cell_type": "code",
   "execution_count": 7,
   "metadata": {},
   "outputs": [],
   "source": [
    "# compute values for number of people entering and exiting a turnstile for a given time stamp\n",
    "\n",
    "merge['Ent'] = merge['ENTRIES'].diff()\n",
    "merge['Ext'] = merge['EXITS'].diff()"
   ]
  },
  {
   "cell_type": "code",
   "execution_count": 8,
   "metadata": {},
   "outputs": [],
   "source": [
    "# remove NaN values in row 0\n",
    "\n",
    "merge = merge.dropna(axis=0)"
   ]
  },
  {
   "cell_type": "code",
   "execution_count": 9,
   "metadata": {},
   "outputs": [],
   "source": [
    "# remove negative values for Ent or Ext\n",
    "\n",
    "merge = merge[merge['Ent'] >= 0]\n",
    "merge = merge[merge['Ext'] >= 0]"
   ]
  },
  {
   "cell_type": "code",
   "execution_count": 10,
   "metadata": {},
   "outputs": [],
   "source": [
    "# Use Dan's magic_number function to remove outliers\n",
    "# **replace number with Dan's function!\n",
    "\n",
    "merge = merge[merge['Ent'] <= 312943]\n",
    "merge = merge[merge['Ext'] <= 143941]"
   ]
  },
  {
   "cell_type": "code",
   "execution_count": 11,
   "metadata": {},
   "outputs": [],
   "source": [
    "# Sum Ent and Ext to compute total number of people moving through a single subway station in a given time frame\n",
    "\n",
    "merge['sum_ent_ext'] = merge['Ent'] + merge['Ext']"
   ]
  },
  {
   "cell_type": "code",
   "execution_count": 12,
   "metadata": {},
   "outputs": [
    {
     "data": {
      "text/html": [
       "<div>\n",
       "<style scoped>\n",
       "    .dataframe tbody tr th:only-of-type {\n",
       "        vertical-align: middle;\n",
       "    }\n",
       "\n",
       "    .dataframe tbody tr th {\n",
       "        vertical-align: top;\n",
       "    }\n",
       "\n",
       "    .dataframe thead th {\n",
       "        text-align: right;\n",
       "    }\n",
       "</style>\n",
       "<table border=\"1\" class=\"dataframe\">\n",
       "  <thead>\n",
       "    <tr style=\"text-align: right;\">\n",
       "      <th></th>\n",
       "      <th>ENTRIES</th>\n",
       "      <th>EXITS</th>\n",
       "      <th>month</th>\n",
       "      <th>Ent</th>\n",
       "      <th>Ext</th>\n",
       "      <th>sum_ent_ext</th>\n",
       "    </tr>\n",
       "  </thead>\n",
       "  <tbody>\n",
       "    <tr>\n",
       "      <th>count</th>\n",
       "      <td>3.035467e+06</td>\n",
       "      <td>3.035467e+06</td>\n",
       "      <td>3.035467e+06</td>\n",
       "      <td>3.035467e+06</td>\n",
       "      <td>3.035467e+06</td>\n",
       "      <td>3.035467e+06</td>\n",
       "    </tr>\n",
       "    <tr>\n",
       "      <th>mean</th>\n",
       "      <td>2.639855e+07</td>\n",
       "      <td>1.924189e+07</td>\n",
       "      <td>4.181935e+00</td>\n",
       "      <td>2.472471e+02</td>\n",
       "      <td>1.689993e+02</td>\n",
       "      <td>4.162465e+02</td>\n",
       "    </tr>\n",
       "    <tr>\n",
       "      <th>std</th>\n",
       "      <td>1.526510e+08</td>\n",
       "      <td>1.315835e+08</td>\n",
       "      <td>1.109653e+00</td>\n",
       "      <td>3.375615e+03</td>\n",
       "      <td>1.621303e+03</td>\n",
       "      <td>4.613309e+03</td>\n",
       "    </tr>\n",
       "    <tr>\n",
       "      <th>min</th>\n",
       "      <td>0.000000e+00</td>\n",
       "      <td>0.000000e+00</td>\n",
       "      <td>2.000000e+00</td>\n",
       "      <td>0.000000e+00</td>\n",
       "      <td>0.000000e+00</td>\n",
       "      <td>0.000000e+00</td>\n",
       "    </tr>\n",
       "    <tr>\n",
       "      <th>25%</th>\n",
       "      <td>4.931220e+05</td>\n",
       "      <td>2.401820e+05</td>\n",
       "      <td>3.000000e+00</td>\n",
       "      <td>1.000000e+01</td>\n",
       "      <td>8.000000e+00</td>\n",
       "      <td>3.000000e+01</td>\n",
       "    </tr>\n",
       "    <tr>\n",
       "      <th>50%</th>\n",
       "      <td>2.498978e+06</td>\n",
       "      <td>1.405553e+06</td>\n",
       "      <td>4.000000e+00</td>\n",
       "      <td>7.700000e+01</td>\n",
       "      <td>5.200000e+01</td>\n",
       "      <td>1.760000e+02</td>\n",
       "    </tr>\n",
       "    <tr>\n",
       "      <th>75%</th>\n",
       "      <td>6.686968e+06</td>\n",
       "      <td>4.664852e+06</td>\n",
       "      <td>5.000000e+00</td>\n",
       "      <td>2.480000e+02</td>\n",
       "      <td>1.670000e+02</td>\n",
       "      <td>4.660000e+02</td>\n",
       "    </tr>\n",
       "    <tr>\n",
       "      <th>max</th>\n",
       "      <td>2.115507e+09</td>\n",
       "      <td>2.049871e+09</td>\n",
       "      <td>6.000000e+00</td>\n",
       "      <td>3.126280e+05</td>\n",
       "      <td>1.438600e+05</td>\n",
       "      <td>4.366260e+05</td>\n",
       "    </tr>\n",
       "  </tbody>\n",
       "</table>\n",
       "</div>"
      ],
      "text/plain": [
       "            ENTRIES         EXITS         month           Ent           Ext  \\\n",
       "count  3.035467e+06  3.035467e+06  3.035467e+06  3.035467e+06  3.035467e+06   \n",
       "mean   2.639855e+07  1.924189e+07  4.181935e+00  2.472471e+02  1.689993e+02   \n",
       "std    1.526510e+08  1.315835e+08  1.109653e+00  3.375615e+03  1.621303e+03   \n",
       "min    0.000000e+00  0.000000e+00  2.000000e+00  0.000000e+00  0.000000e+00   \n",
       "25%    4.931220e+05  2.401820e+05  3.000000e+00  1.000000e+01  8.000000e+00   \n",
       "50%    2.498978e+06  1.405553e+06  4.000000e+00  7.700000e+01  5.200000e+01   \n",
       "75%    6.686968e+06  4.664852e+06  5.000000e+00  2.480000e+02  1.670000e+02   \n",
       "max    2.115507e+09  2.049871e+09  6.000000e+00  3.126280e+05  1.438600e+05   \n",
       "\n",
       "        sum_ent_ext  \n",
       "count  3.035467e+06  \n",
       "mean   4.162465e+02  \n",
       "std    4.613309e+03  \n",
       "min    0.000000e+00  \n",
       "25%    3.000000e+01  \n",
       "50%    1.760000e+02  \n",
       "75%    4.660000e+02  \n",
       "max    4.366260e+05  "
      ]
     },
     "execution_count": 12,
     "metadata": {},
     "output_type": "execute_result"
    }
   ],
   "source": [
    "merge.describe()"
   ]
  },
  {
   "cell_type": "code",
   "execution_count": 13,
   "metadata": {},
   "outputs": [],
   "source": [
    "# move cleaned data to a csv file\n",
    "merge.to_csv('clean_merged_mta_data.csv', index = False)"
   ]
  },
  {
   "cell_type": "code",
   "execution_count": null,
   "metadata": {},
   "outputs": [],
   "source": []
  },
  {
   "cell_type": "code",
   "execution_count": null,
   "metadata": {},
   "outputs": [],
   "source": []
  }
 ],
 "metadata": {
  "kernelspec": {
   "display_name": "Python 3",
   "language": "python",
   "name": "python3"
  },
  "language_info": {
   "codemirror_mode": {
    "name": "ipython",
    "version": 3
   },
   "file_extension": ".py",
   "mimetype": "text/x-python",
   "name": "python",
   "nbconvert_exporter": "python",
   "pygments_lexer": "ipython3",
   "version": "3.7.2"
  }
 },
 "nbformat": 4,
 "nbformat_minor": 2
}
